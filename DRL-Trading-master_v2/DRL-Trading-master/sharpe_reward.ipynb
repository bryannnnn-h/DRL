{
 "cells": [
  {
   "cell_type": "code",
   "execution_count": 72,
   "metadata": {},
   "outputs": [],
   "source": [
    "import os\n",
    "import pandas as pd\n",
    "import numpy as np\n",
    "\n",
    "\n",
    "def set_whole_dic(file_dir):\n",
    "    files=os.listdir(file_dir)\n",
    "    whole_dic={}\n",
    "    for i in range(10):\n",
    "        whole_dic[str(i)]={}\n",
    "    for file in files:\n",
    "        if 'old' not in file and 'us' not in file:\n",
    "            time=file.split('_')[0]\n",
    "            model=file.split('_')[1]\n",
    "            df=pd.read_csv(file_dir+file)\n",
    "            whole_dic[time][model]=df\n",
    "    return whole_dic"
   ]
  },
  {
   "cell_type": "code",
   "execution_count": 55,
   "metadata": {},
   "outputs": [],
   "source": [
    "\n",
    "\n",
    "def set_df(temp_record):\n",
    "    new_df=pd.DataFrame()\n",
    "    models=['a2c','ddpg','ppo']\n",
    "    for model in models:\n",
    "        sharpe_li=temp_record[model]['sharpe']\n",
    "        reward_li=temp_record[model]['reward']\n",
    "        new_df[model+'_sharpe']=sharpe_li\n",
    "        new_df[model+'_reward']=reward_li\n",
    "    return new_df\n",
    "\n"
   ]
  },
  {
   "cell_type": "code",
   "execution_count": 82,
   "metadata": {},
   "outputs": [],
   "source": [
    "def get_meet_number(new_df):\n",
    "    meet_number=0\n",
    "    a2c_number=0\n",
    "    ppo_number=0\n",
    "    ddpg_number=0\n",
    "    for period in range(len(new_df)):\n",
    "        current_period=dict(new_df.loc[period])\n",
    "        max_reward=max([current_period['a2c_reward'],current_period['ppo_reward'],current_period['ddpg_reward']])\n",
    "        max_sharpe=max([current_period['a2c_sharpe'],current_period['ppo_sharpe'],current_period['ddpg_sharpe']])\n",
    "        max_reward_model = [k for k, v in current_period.items() if v == max_reward][0].split('_')[0] \n",
    "        max_sharpe_model = [k for k, v in current_period.items() if v == max_sharpe][0].split('_')[0]\n",
    "        if max_reward_model==max_sharpe_model:\n",
    "            meet_number+=1 \n",
    "        if  max_reward_model=='a2c':\n",
    "            a2c_number+=1\n",
    "        elif  max_reward_model=='ppo':\n",
    "            ppo_number+=1\n",
    "        else:\n",
    "            ddpg_number+=1\n",
    "    print('Meet rate:',meet_number/len(new_df))\n",
    "    print('a2c:',a2c_number/len(new_df))\n",
    "    print('ppo:',ppo_number/len(new_df))\n",
    "    print('ddpg:',ddpg_number/len(new_df))\n",
    "    print()\n",
    "    return meet_number/len(new_df),{'a2c':,a2c_number/len(new_df),'ppo':ppo_number/len(new_df),'ddpg':ddpg_number/len(new_df)}"
   ]
  },
  {
   "cell_type": "code",
   "execution_count": 88,
   "metadata": {},
   "outputs": [
    {
     "name": "stdout",
     "output_type": "stream",
     "text": [
      "Meet rate: 0.29411764705882354\n",
      "a2c: 0.17647058823529413\n",
      "ppo: 0.23529411764705882\n",
      "ddpg: 0.5882352941176471\n",
      "\n",
      "Meet rate: 0.29411764705882354\n",
      "a2c: 0.4117647058823529\n",
      "ppo: 0.23529411764705882\n",
      "ddpg: 0.35294117647058826\n",
      "\n",
      "Meet rate: 0.29411764705882354\n",
      "a2c: 0.5294117647058824\n",
      "ppo: 0.058823529411764705\n",
      "ddpg: 0.4117647058823529\n",
      "\n",
      "Meet rate: 0.4117647058823529\n",
      "a2c: 0.11764705882352941\n",
      "ppo: 0.23529411764705882\n",
      "ddpg: 0.6470588235294118\n",
      "\n",
      "Meet rate: 0.35294117647058826\n",
      "a2c: 0.23529411764705882\n",
      "ppo: 0.35294117647058826\n",
      "ddpg: 0.4117647058823529\n",
      "\n",
      "Meet rate: 0.47058823529411764\n",
      "a2c: 0.11764705882352941\n",
      "ppo: 0.5294117647058824\n",
      "ddpg: 0.35294117647058826\n",
      "\n",
      "Meet rate: 0.35294117647058826\n",
      "a2c: 0.35294117647058826\n",
      "ppo: 0.11764705882352941\n",
      "ddpg: 0.5294117647058824\n",
      "\n",
      "Meet rate: 0.4117647058823529\n",
      "a2c: 0.29411764705882354\n",
      "ppo: 0.47058823529411764\n",
      "ddpg: 0.23529411764705882\n",
      "\n",
      "Meet rate: 0.23529411764705882\n",
      "a2c: 0.23529411764705882\n",
      "ppo: 0.29411764705882354\n",
      "ddpg: 0.47058823529411764\n",
      "\n",
      "Meet rate: 0.35294117647058826\n",
      "a2c: 0.29411764705882354\n",
      "ppo: 0.47058823529411764\n",
      "ddpg: 0.23529411764705882\n",
      "\n",
      "Tw avg success rate: 0.34705882352941175\n",
      "Tw a2c success rate: 0.27647058823529413\n",
      "Tw ppo success rate: 0.3\n",
      "Tw ddpg success rate: 0.4235294117647059\n"
     ]
    }
   ],
   "source": [
    "total_data_list=[]\n",
    "\n",
    "\n",
    "file_dir='exp_data/'\n",
    "tw_whole_dic=set_whole_dic(file_dir)\n",
    "tw_meet_number_list=[]\n",
    "a2c_list=[]\n",
    "ppo_list=[]\n",
    "ddpg_list=[]\n",
    "for item in whole_dic:\n",
    "    current_df=set_df(tw_whole_dic[item])\n",
    "    meet_number,info=get_meet_number(current_df)\n",
    "    a2c_list.append(info['a2c'])\n",
    "    ppo_list.append(info['ppo'])\n",
    "    ddpg_list.append(info['ddpg'])\n",
    "    tw_meet_number_list.append(meet_number)\n",
    "print('Tw avg success rate:',np.mean(tw_meet_number_list))\n",
    "print('Tw a2c success rate:',np.mean(a2c_list))\n",
    "print('Tw ppo success rate:',np.mean(ppo_list))\n",
    "print('Tw ddpg success rate:',np.mean(ddpg_list))\n",
    "\n",
    "total_data_list.append({'model':'ensemble','rate':np.mean(tw_meet_number_list),'region':'Tw'})\n",
    "total_data_list.append({'model':'a2c','rate':np.mean(a2c_list),'region':'Tw'})\n",
    "total_data_list.append({'model':'ppo','rate':np.mean(ppo_list),'region':'Tw'})\n",
    "total_data_list.append({'model':'ddpg','rate':np.mean(ddpg_list),'region':'Tw'})"
   ]
  },
  {
   "cell_type": "code",
   "execution_count": 89,
   "metadata": {},
   "outputs": [
    {
     "name": "stdout",
     "output_type": "stream",
     "text": [
      "Meet rate: 0.35294117647058826\n",
      "a2c: 0.4117647058823529\n",
      "ppo: 0.29411764705882354\n",
      "ddpg: 0.29411764705882354\n",
      "\n",
      "Meet rate: 0.23529411764705882\n",
      "a2c: 0.0\n",
      "ppo: 0.4117647058823529\n",
      "ddpg: 0.5882352941176471\n",
      "\n",
      "Meet rate: 0.29411764705882354\n",
      "a2c: 0.47058823529411764\n",
      "ppo: 0.23529411764705882\n",
      "ddpg: 0.29411764705882354\n",
      "\n",
      "Meet rate: 0.47058823529411764\n",
      "a2c: 0.058823529411764705\n",
      "ppo: 0.47058823529411764\n",
      "ddpg: 0.47058823529411764\n",
      "\n",
      "Meet rate: 0.23529411764705882\n",
      "a2c: 0.17647058823529413\n",
      "ppo: 0.47058823529411764\n",
      "ddpg: 0.35294117647058826\n",
      "\n",
      "Meet rate: 0.35294117647058826\n",
      "a2c: 0.11764705882352941\n",
      "ppo: 0.47058823529411764\n",
      "ddpg: 0.4117647058823529\n",
      "\n",
      "Meet rate: 0.29411764705882354\n",
      "a2c: 0.47058823529411764\n",
      "ppo: 0.29411764705882354\n",
      "ddpg: 0.23529411764705882\n",
      "\n",
      "Meet rate: 0.29411764705882354\n",
      "a2c: 0.23529411764705882\n",
      "ppo: 0.35294117647058826\n",
      "ddpg: 0.4117647058823529\n",
      "\n",
      "Meet rate: 0.29411764705882354\n",
      "a2c: 0.35294117647058826\n",
      "ppo: 0.35294117647058826\n",
      "ddpg: 0.29411764705882354\n",
      "\n",
      "Meet rate: 0.17647058823529413\n",
      "a2c: 0.23529411764705882\n",
      "ppo: 0.29411764705882354\n",
      "ddpg: 0.47058823529411764\n",
      "\n",
      "US avg success rate: 0.29999999999999993\n",
      "US a2c success rate: 0.2529411764705882\n",
      "US ppo success rate: 0.36470588235294116\n",
      "US ddpg success rate: 0.38235294117647056\n"
     ]
    }
   ],
   "source": [
    "file_dir='exp_data/us_data/'\n",
    "us_whole_dic=set_whole_dic(file_dir)\n",
    "us_meet_number_list=[]\n",
    "a2c_list=[]\n",
    "ppo_list=[]\n",
    "ddpg_list=[]\n",
    "for item in whole_dic:\n",
    "    current_df=set_df(us_whole_dic[item])\n",
    "    meet_number,info=get_meet_number(current_df)\n",
    "    a2c_list.append(info['a2c'])\n",
    "    ppo_list.append(info['ppo'])\n",
    "    ddpg_list.append(info['ddpg'])\n",
    "    us_meet_number_list.append(meet_number)\n",
    "print('US avg success rate:',np.mean(us_meet_number_list))\n",
    "print('US a2c success rate:',np.mean(a2c_list))\n",
    "print('US ppo success rate:',np.mean(ppo_list))\n",
    "print('US ddpg success rate:',np.mean(ddpg_list))\n",
    "\n",
    "total_data_list.append({'model':'ensemble','rate':np.mean(us_meet_number_list),'region':'US'})\n",
    "total_data_list.append({'model':'a2c','rate':np.mean(a2c_list),'region':'US'})\n",
    "total_data_list.append({'model':'ppo','rate':np.mean(ppo_list),'region':'US'})\n",
    "total_data_list.append({'model':'ddpg','rate':np.mean(ddpg_list),'region':'US'})"
   ]
  },
  {
   "cell_type": "code",
   "execution_count": 96,
   "metadata": {},
   "outputs": [
    {
     "data": {
      "image/png": "[encoded data removed]",
      "text/plain": [
       "<Figure size 1080x720 with 1 Axes>"
      ]
     },
     "metadata": {
      "needs_background": "light"
     },
     "output_type": "display_data"
    }
   ],
   "source": [
    "import seaborn as sns\n",
    "import matplotlib.pyplot as plt\n",
    "%matplotlib inline\n",
    "df_result=pd.DataFrame(total_data_list)\n",
    "plt.figure(figsize=(15, 10))\n",
    "sns.set(font_scale = 1.5)\n",
    "ax = sns.barplot(x=\"model\", y='rate', hue=\"region\", data=df_result)\n",
    "#ax.set(ylim=(y_range, 1)) \n",
    "ax.set_xlabel(\"Model name\",fontsize=20)\n",
    "ax.set_ylabel(\"Max reward rate\",fontsize=20)\n",
    "ax.set_title(\"Reward versus models and region (10 experiments - 170 episodes )\",fontsize=20)\n",
    "plt.show()"
   ]
  },
  {
   "cell_type": "code",
   "execution_count": 117,
   "metadata": {},
   "outputs": [
    {
     "data": {
      "image/png": "[encoded data removed]",
      "text/plain": [
       "<Figure size 1080x720 with 1 Axes>"
      ]
     },
     "metadata": {},
     "output_type": "display_data"
    }
   ],
   "source": [
    "row_li=[{'type':'original','trades':1015},{'type':'VIX_adjustment','trades':423}]\n",
    "df=pd.DataFrame(row_li)\n",
    "plt.figure(figsize=(15, 10))\n",
    "sns.set(font_scale = 1.5)\n",
    "ax = sns.barplot(x=\"type\", y='trades',data=df)\n",
    "ax.set_xlabel(\"Type\",fontsize=20)\n",
    "ax.set_ylabel(\"Trade number per episode\",fontsize=20)\n",
    "ax.set_title(\"Original data versus VIX adjustment\",fontsize=20)\n",
    "plt.show()"
   ]
  },
  {
   "cell_type": "code",
   "execution_count": 112,
   "metadata": {},
   "outputs": [
    {
     "name": "stdout",
     "output_type": "stream",
     "text": [
      "a2c_avg_max_dropdown: -214512.64469043267\n",
      "a2c min drop: -567733.3579616065\n",
      "a2c_var: 24054450603.274246\n",
      "\n",
      "ppo_avg_max_dropdown: -218183.70894125546\n",
      "ppo min drop: -488235.64711397776\n",
      "ppo_var: 16232078232.514874\n",
      "\n",
      "ddpg_avg_max_dropdown: -180987.74618358567\n",
      "ddpg min drop: -492945.2037130785\n",
      "ddpg_var: 12849934516.128525\n",
      "\n"
     ]
    }
   ],
   "source": [
    "models=['a2c','ddpg','ppo']\n",
    "a2c_max_dropdown_li=[]\n",
    "ppo_max_dropdown_li=[]\n",
    "ddpg_max_dropdown_li=[]\n",
    "for item in tw_whole_dic:\n",
    "    current_df=set_df(tw_whole_dic[item])\n",
    "    a2c_max_dropdown_li.append(current_df['a2c_reward'].min())\n",
    "    ppo_max_dropdown_li.append(current_df['ppo_reward'].min())\n",
    "    ddpg_max_dropdown_li.append(current_df['ddpg_reward'].min())\n",
    "    \n",
    "print('a2c_avg_max_dropdown:',np.mean(a2c_max_dropdown_li))\n",
    "print('a2c min drop:',np.min(a2c_max_dropdown_li))\n",
    "print('a2c_var:',np.var(a2c_max_dropdown_li))\n",
    "print()\n",
    "print('ppo_avg_max_dropdown:',np.mean(ppo_max_dropdown_li))\n",
    "print('ppo min drop:',np.min(ppo_max_dropdown_li))\n",
    "print('ppo_var:',np.var(ppo_max_dropdown_li))\n",
    "print()\n",
    "print('ddpg_avg_max_dropdown:',np.mean(ddpg_max_dropdown_li))\n",
    "print('ddpg min drop:',np.min(ddpg_max_dropdown_li))\n",
    "print('ddpg_var:',np.var(ddpg_max_dropdown_li))\n",
    "print()"
   ]
  },
  {
   "cell_type": "code",
   "execution_count": 115,
   "metadata": {},
   "outputs": [
    {
     "data": {
      "text/plain": [
       "24054450603.274246"
      ]
     },
     "execution_count": 115,
     "metadata": {},
     "output_type": "execute_result"
    }
   ],
   "source": [
    "np.var(a2c_max_dropdown_li)\n",
    "# a2c_max_dropdown_li"
   ]
  },
  {
   "cell_type": "code",
   "execution_count": 110,
   "metadata": {},
   "outputs": [
    {
     "name": "stdout",
     "output_type": "stream",
     "text": [
      "a2c_avg_max_dropdown: -115930.97458124548\n",
      "a2c min drop: -151700.13622589025\n",
      "a2c_var: 469277875.29569787\n",
      "\n",
      "ppo_avg_max_dropdown: -100986.31565703182\n",
      "ppo min drop: -159462.56348779376\n",
      "ppo_var: 769297265.4139559\n",
      "\n",
      "ddpg_avg_max_dropdown: -149116.23369089107\n",
      "ddpg min drop: -235195.5267750791\n",
      "ddpg_var: 2401463200.3717165\n",
      "\n"
     ]
    }
   ],
   "source": [
    "a2c_max_dropdown_li=[]\n",
    "ppo_max_dropdown_li=[]\n",
    "ddpg_max_dropdown_li=[]\n",
    "for item in us_whole_dic:\n",
    "    current_df=set_df(us_whole_dic[item])\n",
    "    a2c_max_dropdown_li.append(current_df['a2c_reward'].min())\n",
    "    ppo_max_dropdown_li.append(current_df['ppo_reward'].min())\n",
    "    ddpg_max_dropdown_li.append(current_df['ddpg_reward'].min())\n",
    "    \n",
    "print('a2c_avg_max_dropdown:',np.mean(a2c_max_dropdown_li))\n",
    "print('a2c min drop:',np.min(a2c_max_dropdown_li))\n",
    "print('a2c_var:',np.var(a2c_max_dropdown_li))\n",
    "print()\n",
    "print('ppo_avg_max_dropdown:',np.mean(ppo_max_dropdown_li))\n",
    "print('ppo min drop:',np.min(ppo_max_dropdown_li))\n",
    "print('ppo_var:',np.var(ppo_max_dropdown_li))\n",
    "print()\n",
    "print('ddpg_avg_max_dropdown:',np.mean(ddpg_max_dropdown_li))\n",
    "print('ddpg min drop:',np.min(ddpg_max_dropdown_li))\n",
    "print('ddpg_var:',np.var(ddpg_max_dropdown_li))\n",
    "print()"
   ]
  },
  {
   "cell_type": "code",
   "execution_count": null,
   "metadata": {},
   "outputs": [],
   "source": []
  }
 ],
 "metadata": {
  "kernelspec": {
   "display_name": "Python 3",
   "language": "python",
   "name": "python3"
  },
  "language_info": {
   "codemirror_mode": {
    "name": "ipython",
    "version": 3
   },
   "file_extension": ".py",
   "mimetype": "text/x-python",
   "name": "python",
   "nbconvert_exporter": "python",
   "pygments_lexer": "ipython3",
   "version": "3.7.3"
  }
 },
 "nbformat": 4,
 "nbformat_minor": 2
}
