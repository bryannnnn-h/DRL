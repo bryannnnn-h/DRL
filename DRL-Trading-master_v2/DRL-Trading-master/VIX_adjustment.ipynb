{
 "cells": [
  {
   "cell_type": "code",
   "execution_count": null,
   "metadata": {},
   "outputs": [],
   "source": [
    "#%% import packages\n",
    "import pandas as pd\n",
    "import pandas_datareader as pdr\n",
    "from datetime import datetime\n",
    "import time\n",
    "import copy\n",
    "import matplotlib.pyplot as plt\n",
    "plt.style.use('ggplot')\n",
    "%matplotlib inline\n",
    "start = datetime(2009, 1, 1)   # data fetched start point\n",
    "vix = pdr.DataReader('^VIX', 'yahoo',start)\n",
    "vix=vix.drop(columns=['High','Low','Volume','Adj Close'])\n",
    "vix['datadate']=vix.index\n",
    "vix=vix.reset_index()\n",
    "vix=vix.drop(['Date'],axis=1)\n",
    "vix=vix[['datadate','Open',\"Close\"]]"
   ]
  },
  {
   "cell_type": "markdown",
   "metadata": {},
   "source": [
    "## check missing data"
   ]
  },
  {
   "cell_type": "code",
   "execution_count": null,
   "metadata": {},
   "outputs": [],
   "source": [
    "from config import config\n",
    "import pandas as pd\n",
    "data=pd.read_csv('done_data.csv')\n",
    "\n",
    "unique_trade_date = data[(data.datadate > config.VALID_START)&(data.datadate <= config.VALID_END)].datadate.unique()\n",
    "train_date=data[(data.datadate<\"2016-01-00\") & (data.datadate>=\"2009-00-00\")].datadate.unique()\n",
    "vix_trade_date=vix[(vix.datadate > config.VALID_START)&(vix.datadate <= config.VALID_END)].datadate.unique()\n",
    "vix_train_date=vix[(vix.datadate<\"2016-01-00\") & (vix.datadate>=\"2009-00-00\")].datadate.unique()"
   ]
  },
  {
   "cell_type": "code",
   "execution_count": null,
   "metadata": {},
   "outputs": [],
   "source": [
    "def handle_vix_missing_part():\n",
    "    vix_drop_date=[]\n",
    "    for ele in vix_trade_date:\n",
    "        if ele not in unique_trade_date:\n",
    "            vix_drop_date.append(ele)\n",
    "    for ele in vix_train_date:\n",
    "        if ele not in train_date:\n",
    "            vix_drop_date.append(ele)\n",
    "    vix_miss_date=[]\n",
    "    for ele in unique_trade_date:\n",
    "        if ele not in vix_trade_date:\n",
    "            vix_miss_date.append(ele)\n",
    "    for ele in train_date:\n",
    "        if ele not in vix_train_date:\n",
    "            vix_miss_date.append(ele)\n",
    "    recover_data=[]\n",
    "    nan = float(\"NAN\")\n",
    "    for date in vix_miss_date:\n",
    "        recover_data.append([date,nan,nan ])\n",
    "    df_recover = pd.DataFrame(recover_data, columns=['datadate','Open','Close'])\n",
    "    vix_new=pd.concat([vix, df_recover])\n",
    "    vix_new=vix_new.sort_values(by=['datadate'])\n",
    "    vix_new=vix_new.fillna(method='ffill')\n",
    "    vix_new = vix_new[~vix_new['datadate'].isin(vix_drop_date)]\n",
    "    vix_new.to_csv('./data/VIX.csv',index=False)"
   ]
  },
  {
   "cell_type": "markdown",
   "metadata": {},
   "source": [
    "## Design reward function"
   ]
  },
  {
   "cell_type": "code",
   "execution_count": null,
   "metadata": {},
   "outputs": [],
   "source": [
    "from math import exp\n",
    "for vi in range(10,83):\n",
    "    value=(vi-18.1)/82.7\n",
    "    print(vi,exp(value))"
   ]
  },
  {
   "cell_type": "code",
   "execution_count": null,
   "metadata": {},
   "outputs": [],
   "source": [
    "def get_vix_adj_value(self,vix):\n",
    "    total_trade=self.trades\n",
    "    vix_mean=config.vix_mean\n",
    "    vix_max=config.vix_max\n",
    "    trade_limit=config.trade_limit\n",
    "    vix_fcator=exp((vix-vix_mean)/vix_max)\n",
    "    adj_factor=(2-(total_trade/trade_limit)*vix_fcator)\n",
    "    return adj_factor\n",
    "    \n",
    "total_trade=1500\n",
    "vix_mean=18.1\n",
    "trade_limit=1000\n",
    "vix_fcator=exp((25-vix_mean)/vix_mean)\n",
    "adj_factor=exp((2-(total_trade/trade_limit)*vix_fcator))  \n",
    "adj_factor"
   ]
  },
  {
   "cell_type": "markdown",
   "metadata": {},
   "source": [
    "## Dropdown vix check"
   ]
  },
  {
   "cell_type": "code",
   "execution_count": null,
   "metadata": {},
   "outputs": [],
   "source": [
    "import seaborn as sns\n",
    "import matplotlib.pyplot as plt\n",
    "import pandas as pd\n",
    "vix_=vix[vix['Open']>=20]\n",
    "vix_normal=vix[(vix.datadate >= \"2017-09-01\")&(vix.datadate < \"2017-10-31\")]\n",
    "vix_drop_1=vix[(vix.datadate >= \"2018-09-01\")&(vix.datadate < \"2019-01-01\")]\n",
    "vix_drop_2=vix[(vix.datadate >= \"2019-05-01\")&(vix.datadate < \"2019-06-30\")]\n",
    "def draw_result(df,name):\n",
    "    plt.figure(figsize=(15, 10))\n",
    "    sns.set(font_scale = 1.5)\n",
    "    ax = sns.lineplot(x=\"datadate\", y=\"Open\", data=df)\n",
    "#     ax.set(ylim=(y_range, 0.8)) \n",
    "#     ax.set_xlabel(\"Model name\",fontsize=20)\n",
    "#     ax.set_ylabel(\"Accuracy\",fontsize=20)\n",
    "    ax.set_title(name,fontsize=20)\n",
    "    plt.show()\n",
    "draw_result(vix_normal,'vix_1')    \n",
    "draw_result(vix_drop_1,'vix_1')\n",
    "draw_result(vix_drop_2,'vix_2')"
   ]
  }
 ],
 "metadata": {
  "kernelspec": {
   "display_name": "Python 3",
   "language": "python",
   "name": "python3"
  },
  "language_info": {
   "codemirror_mode": {
    "name": "ipython",
    "version": 3
   },
   "file_extension": ".py",
   "mimetype": "text/x-python",
   "name": "python",
   "nbconvert_exporter": "python",
   "pygments_lexer": "ipython3",
   "version": "3.7.3"
  }
 },
 "nbformat": 4,
 "nbformat_minor": 2
}
