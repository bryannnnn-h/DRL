{
 "cells": [
  {
   "cell_type": "code",
   "execution_count": 1,
   "metadata": {},
   "outputs": [],
   "source": [
    "#%% import packages\n",
    "import pandas as pd\n",
    "import pandas_datareader as pdr\n",
    "from datetime import datetime\n",
    "import time\n",
    "import copy\n",
    "import matplotlib.pyplot as plt\n",
    "plt.style.use('ggplot')\n",
    "%matplotlib inline"
   ]
  },
  {
   "cell_type": "code",
   "execution_count": 2,
   "metadata": {},
   "outputs": [],
   "source": [
    "#%% var definitions\n",
    "stock_list = [   # ten of the 0050 constituent stocks\n",
    "    2330, 2454, 2317, 2303, 2308, \\\n",
    "    1301, 2412, 1303, 2891, 3008\n",
    "]\n",
    "stock_list_2 = [   # ten of the 0050 constituent stocks\n",
    "    2330, 2454, 2317, 2303, 2308, \\\n",
    "    1301, 2882, 1303, 2891, 3008\n",
    "]\n",
    "start = datetime(2009, 1, 1)   # data fetched start point\n",
    "df = pd.DataFrame(columns=[\"Date\", \"tic\", \"High\", \"Low\", \"Open\", \"Close\", \"Volume\", \"Adj Close\"])   # df storig data of 10 stocks"
   ]
  },
  {
   "cell_type": "markdown",
   "metadata": {},
   "source": [
    "## Get VIX"
   ]
  },
  {
   "cell_type": "code",
   "execution_count": 50,
   "metadata": {},
   "outputs": [],
   "source": [
    "vix = pdr.DataReader('^VIX', 'yahoo',start)\n",
    "\n",
    "vix=vix.drop(columns=['High','Low','Volume','Adj Close'])\n",
    "vix['datadate']=vix.index\n",
    "vix=vix.reset_index()\n",
    "\n",
    "vix=vix.drop(['Date'],axis=1)\n",
    "vix=vix[['datadate','Open',\"Close\"]]\n",
    "# date_li=vix.datadate\n",
    "# date_li=[int(ele.strftime(\"%Y%m%d\")) for ele in date_li]\n",
    "# vix['datadate']=date_li"
   ]
  },
  {
   "cell_type": "code",
   "execution_count": 51,
   "metadata": {},
   "outputs": [
    {
     "data": {
      "text/html": [
       "<div>\n",
       "<style scoped>\n",
       "    .dataframe tbody tr th:only-of-type {\n",
       "        vertical-align: middle;\n",
       "    }\n",
       "\n",
       "    .dataframe tbody tr th {\n",
       "        vertical-align: top;\n",
       "    }\n",
       "\n",
       "    .dataframe thead th {\n",
       "        text-align: right;\n",
       "    }\n",
       "</style>\n",
       "<table border=\"1\" class=\"dataframe\">\n",
       "  <thead>\n",
       "    <tr style=\"text-align: right;\">\n",
       "      <th></th>\n",
       "      <th>datadate</th>\n",
       "      <th>Open</th>\n",
       "      <th>Close</th>\n",
       "    </tr>\n",
       "  </thead>\n",
       "  <tbody>\n",
       "    <tr>\n",
       "      <th>0</th>\n",
       "      <td>2008-12-31</td>\n",
       "      <td>41.630001</td>\n",
       "      <td>40.000000</td>\n",
       "    </tr>\n",
       "    <tr>\n",
       "      <th>1</th>\n",
       "      <td>2009-01-02</td>\n",
       "      <td>39.580002</td>\n",
       "      <td>39.189999</td>\n",
       "    </tr>\n",
       "    <tr>\n",
       "      <th>2</th>\n",
       "      <td>2009-01-05</td>\n",
       "      <td>39.240002</td>\n",
       "      <td>39.080002</td>\n",
       "    </tr>\n",
       "    <tr>\n",
       "      <th>3</th>\n",
       "      <td>2009-01-06</td>\n",
       "      <td>38.060001</td>\n",
       "      <td>38.560001</td>\n",
       "    </tr>\n",
       "    <tr>\n",
       "      <th>4</th>\n",
       "      <td>2009-01-07</td>\n",
       "      <td>40.290001</td>\n",
       "      <td>43.389999</td>\n",
       "    </tr>\n",
       "  </tbody>\n",
       "</table>\n",
       "</div>"
      ],
      "text/plain": [
       "    datadate       Open      Close\n",
       "0 2008-12-31  41.630001  40.000000\n",
       "1 2009-01-02  39.580002  39.189999\n",
       "2 2009-01-05  39.240002  39.080002\n",
       "3 2009-01-06  38.060001  38.560001\n",
       "4 2009-01-07  40.290001  43.389999"
      ]
     },
     "execution_count": 51,
     "metadata": {},
     "output_type": "execute_result"
    }
   ],
   "source": [
    "vix.head()"
   ]
  },
  {
   "cell_type": "code",
   "execution_count": 55,
   "metadata": {},
   "outputs": [],
   "source": [
    "vix.to_csv('./data/VIX.csv',index=False)\n",
    "vix=pd.read_csv('./data/VIX.csv')"
   ]
  },
  {
   "cell_type": "markdown",
   "metadata": {},
   "source": [
    "## Check VIX date right"
   ]
  },
  {
   "cell_type": "code",
   "execution_count": 135,
   "metadata": {},
   "outputs": [],
   "source": [
    "from config import config\n",
    "import pandas as pd\n",
    "data=pd.read_csv('done_data.csv')\n",
    "\n",
    "unique_trade_date = data[(data.datadate > config.VALID_START)&(data.datadate <= config.VALID_END)].datadate.unique()\n",
    "train_date=data[(data.datadate<\"2016-01-00\") & (data.datadate>=\"2009-00-00\")].datadate.unique()\n",
    "vix_trade_date=vix[(vix.datadate > config.VALID_START)&(vix.datadate <= config.VALID_END)].datadate.unique()\n",
    "vix_train_date=vix[(vix.datadate<\"2016-01-00\") & (vix.datadate>=\"2009-00-00\")].datadate.unique()"
   ]
  },
  {
   "cell_type": "code",
   "execution_count": 134,
   "metadata": {},
   "outputs": [
    {
     "data": {
      "text/plain": [
       "array(['2010-01-04', '2010-01-05', '2010-01-06', ..., '2015-12-29',\n",
       "       '2015-12-30', '2015-12-31'], dtype=object)"
      ]
     },
     "execution_count": 134,
     "metadata": {},
     "output_type": "execute_result"
    }
   ],
   "source": [
    "train_date"
   ]
  },
  {
   "cell_type": "code",
   "execution_count": 136,
   "metadata": {},
   "outputs": [
    {
     "data": {
      "text/plain": [
       "407"
      ]
     },
     "execution_count": 136,
     "metadata": {},
     "output_type": "execute_result"
    }
   ],
   "source": [
    "vix_drop_date=[]\n",
    "for ele in vix_trade_date:\n",
    "    if ele not in unique_trade_date:\n",
    "        vix_drop_date.append(ele)\n",
    "for ele in vix_train_date:\n",
    "    if ele not in train_date:\n",
    "        vix_drop_date.append(ele)\n",
    "len(vix_drop_date)"
   ]
  },
  {
   "cell_type": "code",
   "execution_count": 137,
   "metadata": {},
   "outputs": [],
   "source": [
    "vix_miss_date=[]\n",
    "for ele in unique_trade_date:\n",
    "    if ele not in vix_trade_date:\n",
    "        vix_miss_date.append(ele)\n",
    "for ele in train_date:\n",
    "    if ele not in vix_train_date:\n",
    "        vix_miss_date.append(ele)\n",
    "recover_data=[]\n",
    "nan = float(\"NAN\")\n",
    "for date in vix_miss_date:\n",
    "    recover_data.append([date,nan,nan ])\n",
    "df_recover = pd.DataFrame(recover_data, columns=['datadate','Open','Close'])\n",
    "vix_new=pd.concat([vix, df_recover])\n",
    "vix_new=vix_new.sort_values(by=['datadate'])\n",
    "vix_new=vix_new.fillna(method='ffill')"
   ]
  },
  {
   "cell_type": "code",
   "execution_count": 138,
   "metadata": {},
   "outputs": [
    {
     "data": {
      "text/html": [
       "<div>\n",
       "<style scoped>\n",
       "    .dataframe tbody tr th:only-of-type {\n",
       "        vertical-align: middle;\n",
       "    }\n",
       "\n",
       "    .dataframe tbody tr th {\n",
       "        vertical-align: top;\n",
       "    }\n",
       "\n",
       "    .dataframe thead th {\n",
       "        text-align: right;\n",
       "    }\n",
       "</style>\n",
       "<table border=\"1\" class=\"dataframe\">\n",
       "  <thead>\n",
       "    <tr style=\"text-align: right;\">\n",
       "      <th></th>\n",
       "      <th>datadate</th>\n",
       "      <th>Open</th>\n",
       "      <th>Close</th>\n",
       "    </tr>\n",
       "  </thead>\n",
       "  <tbody>\n",
       "    <tr>\n",
       "      <th>0</th>\n",
       "      <td>2008-12-31</td>\n",
       "      <td>41.630001</td>\n",
       "      <td>40.000000</td>\n",
       "    </tr>\n",
       "    <tr>\n",
       "      <th>1</th>\n",
       "      <td>2009-01-02</td>\n",
       "      <td>39.580002</td>\n",
       "      <td>39.189999</td>\n",
       "    </tr>\n",
       "    <tr>\n",
       "      <th>2</th>\n",
       "      <td>2009-01-05</td>\n",
       "      <td>39.240002</td>\n",
       "      <td>39.080002</td>\n",
       "    </tr>\n",
       "    <tr>\n",
       "      <th>3</th>\n",
       "      <td>2009-01-06</td>\n",
       "      <td>38.060001</td>\n",
       "      <td>38.560001</td>\n",
       "    </tr>\n",
       "    <tr>\n",
       "      <th>4</th>\n",
       "      <td>2009-01-07</td>\n",
       "      <td>40.290001</td>\n",
       "      <td>43.389999</td>\n",
       "    </tr>\n",
       "    <tr>\n",
       "      <th>...</th>\n",
       "      <td>...</td>\n",
       "      <td>...</td>\n",
       "      <td>...</td>\n",
       "    </tr>\n",
       "    <tr>\n",
       "      <th>3016</th>\n",
       "      <td>2020-12-23</td>\n",
       "      <td>23.490000</td>\n",
       "      <td>23.309999</td>\n",
       "    </tr>\n",
       "    <tr>\n",
       "      <th>3017</th>\n",
       "      <td>2020-12-24</td>\n",
       "      <td>22.469999</td>\n",
       "      <td>21.530001</td>\n",
       "    </tr>\n",
       "    <tr>\n",
       "      <th>3018</th>\n",
       "      <td>2020-12-28</td>\n",
       "      <td>22.110001</td>\n",
       "      <td>21.700001</td>\n",
       "    </tr>\n",
       "    <tr>\n",
       "      <th>3019</th>\n",
       "      <td>2020-12-29</td>\n",
       "      <td>21.610001</td>\n",
       "      <td>23.080000</td>\n",
       "    </tr>\n",
       "    <tr>\n",
       "      <th>3020</th>\n",
       "      <td>2020-12-30</td>\n",
       "      <td>22.580000</td>\n",
       "      <td>22.770000</td>\n",
       "    </tr>\n",
       "  </tbody>\n",
       "</table>\n",
       "<p>3107 rows × 3 columns</p>\n",
       "</div>"
      ],
      "text/plain": [
       "        datadate       Open      Close\n",
       "0     2008-12-31  41.630001  40.000000\n",
       "1     2009-01-02  39.580002  39.189999\n",
       "2     2009-01-05  39.240002  39.080002\n",
       "3     2009-01-06  38.060001  38.560001\n",
       "4     2009-01-07  40.290001  43.389999\n",
       "...          ...        ...        ...\n",
       "3016  2020-12-23  23.490000  23.309999\n",
       "3017  2020-12-24  22.469999  21.530001\n",
       "3018  2020-12-28  22.110001  21.700001\n",
       "3019  2020-12-29  21.610001  23.080000\n",
       "3020  2020-12-30  22.580000  22.770000\n",
       "\n",
       "[3107 rows x 3 columns]"
      ]
     },
     "execution_count": 138,
     "metadata": {},
     "output_type": "execute_result"
    }
   ],
   "source": [
    "vix_new"
   ]
  },
  {
   "cell_type": "code",
   "execution_count": 139,
   "metadata": {},
   "outputs": [],
   "source": [
    "vix_new = vix_new[~vix_new['datadate'].isin(vix_drop_date)]"
   ]
  },
  {
   "cell_type": "code",
   "execution_count": 140,
   "metadata": {},
   "outputs": [],
   "source": [
    "vix_new.to_csv('./data/VIX.csv',index=False)"
   ]
  },
  {
   "cell_type": "code",
   "execution_count": 3,
   "metadata": {},
   "outputs": [],
   "source": [
    "#%% function definition\n",
    "def obs_missing_value(df):   # observe the missing values in dataframe, stock by stock\n",
    "    '''\n",
    "        Input:\n",
    "            df: pd.DataFrame, dataframe for 10 stocks in 0050\n",
    "        Return:\n",
    "            None\n",
    "    '''\n",
    "    for stock_ticker, stock_data in df.groupby(\"tic\"):\n",
    "        print(\"Stock: \", stock_ticker)\n",
    "        print(\"=====Stock Data Size=====\")\n",
    "        print(stock_data.shape[0])\n",
    "        for column in [\"High\", \"Low\", \"Open\", \"Close\", \"Volume\", \"Adj Close\"]:\n",
    "            print(\"=====Number of Missing Value in \" + column +\"=====\")\n",
    "            print(stock_data[column].isnull().sum())\n",
    "\n",
    "def extract_missing_date(df):   # extract missing dates of the particular\n",
    "    '''\n",
    "        Input:\n",
    "            df: pd.DataFrame, dataframe for 10 stocks in 0050\n",
    "        Return:\n",
    "            missing_dates: list, storing missing dates for some specific stocks\n",
    "    '''\n",
    "    date_seqs = []\n",
    "    missing_dates = set()\n",
    "    testing_stocks = sorted(copy.deepcopy(stock_list_2))\n",
    "    #testing_stock = [\"1301\", \"2308\", \"2317\", \"2330\", \"2882\"]\n",
    "    #for stock_ticker in [\"1301\", \"1303\",\"2303\",\"2454\",\"2891\", \"3008\"]:\n",
    "          #date_seqs.append(set(df[df[\"tic\"] == stock_ticker][\"Date\"]))\n",
    "    for stock_ticker, stock_data in df.groupby(\"tic\"):\n",
    "        #if str(stock_ticker) in testing_stock:\n",
    "        date_seqs.append(set(stock_data[\"Date\"]))\n",
    "    for i in range(len(date_seqs)-1):\n",
    "        for j in range(i+1, len(date_seqs)):\n",
    "            diff = date_seqs[i].symmetric_difference(date_seqs[j])\n",
    "            if len(diff) == 0:\n",
    "                continue\n",
    "            else:\n",
    "                missing_dates = missing_dates.union(diff)\n",
    "                print(missing_dates)\n",
    "                print(str(testing_stocks[i]) + \", \" + str(testing_stocks[j]) + \" have difference:\", diff)\n",
    "    return list(missing_dates)\n",
    "\n",
    "def handle_missing_date(df, missing_dates, method=\"drop\"):   # deal with the missing data in dataframe (missing at particular date)\n",
    "    '''\n",
    "        Input:\n",
    "            df: pd.DataFrame, dataframe for 10 stocks in 0050\n",
    "            missing_dates: list, storing missing dates for some specific stocks\n",
    "            method: string, the method ued to deal with missing data (default=\"drop\"), can choose on of {\"drop\", \"impute\"}\n",
    "        Return:\n",
    "            None\n",
    "    '''\n",
    "    df_proc = df.copy()\n",
    "    if method == \"drop\":\n",
    "        for missing_date in missing_dates:\n",
    "            df_proc = df_proc[df_proc[\"Date\"] != missing_date]\n",
    "        df_proc.reset_index(drop=True, inplace=True)\n",
    "    return df_proc\n",
    "\n",
    "def plot_padjc_pc(df):   # plot the relationship of close and adj close\n",
    "    '''\n",
    "        Input:\n",
    "            df: pd.DataFrame, dataframe for 10 stocks in 0050\n",
    "        Return:\n",
    "            None\n",
    "    '''\n",
    "    df_ploted = df.copy()\n",
    "    #fig, ax = plt.subplots(figsize=(20, 10))\n",
    "    plot_count = 1\n",
    "    for stock_ticker, stock_data in df_ploted.groupby(\"tic\"):\n",
    "        plt.figure(figsize=(14, 7))\n",
    "        #plt.subplot(5, 2, plot_count)\n",
    "        plt.plot(stock_data[\"Close\"])\n",
    "        plt.plot(stock_data[\"Adj Close\"])\n",
    "        plt.title(\"Adj Close versus Close\")\n",
    "        plt.xlabel(\"Date\")\n",
    "        plt.ylabel(\"Price\")\n",
    "        plt.legend([\"Close\", \"Adj Close\"], loc=\"upper right\")\n",
    "        plt.show()\n",
    "        plot_count += 1\n",
    "    #plt.show()"
   ]
  },
  {
   "cell_type": "code",
   "execution_count": null,
   "metadata": {},
   "outputs": [],
   "source": [
    "'''for stock_ticker in stock_list_2:\n",
    "    try:\n",
    "        df_tmp = pdr.DataReader(str(stock_ticker)+\".TW\", \"yahoo\", start)\n",
    "    except:\n",
    "        print(str(stock_ticker) + \"has some problem!\")\n",
    "        continue\n",
    "    print(str(stock_ticker) + \"success!\")\n",
    "    df_tmp[\"tic\"] = [str(stock_ticker) for _ in range(df_tmp.shape[0])]\n",
    "    df_tmp.reset_index(drop=False, inplace=True)\n",
    "    print(df_tmp.head())\n",
    "    df = pd.concat([df, df_tmp], ignore_index=True, axis=0)\n",
    "    time.sleep(3)\n",
    "df.to_csv(\"tw0050_10_2.csv\", index=False)'''"
   ]
  },
  {
   "cell_type": "code",
   "execution_count": 16,
   "metadata": {},
   "outputs": [
    {
     "name": "stdout",
     "output_type": "stream",
     "text": [
      "{'2009-08-07'}\n",
      "1301, 2308 have difference: {'2009-08-07'}\n",
      "{'2009-08-07'}\n",
      "1301, 2317 have difference: {'2009-08-07'}\n",
      "{'2009-08-07'}\n",
      "1301, 2330 have difference: {'2009-08-07'}\n",
      "{'2009-08-07'}\n",
      "1303, 2308 have difference: {'2009-08-07'}\n",
      "{'2009-08-07'}\n",
      "1303, 2317 have difference: {'2009-08-07'}\n",
      "{'2009-08-07'}\n",
      "1303, 2330 have difference: {'2009-08-07'}\n",
      "{'2009-08-07'}\n",
      "2303, 2308 have difference: {'2009-08-07'}\n",
      "{'2009-08-07'}\n",
      "2303, 2317 have difference: {'2009-08-07'}\n",
      "{'2009-08-07'}\n",
      "2303, 2330 have difference: {'2009-08-07'}\n",
      "{'2009-08-07'}\n",
      "2308, 2454 have difference: {'2009-08-07'}\n",
      "{'2009-08-07'}\n",
      "2308, 2882 have difference: {'2009-08-07'}\n",
      "{'2009-08-07'}\n",
      "2308, 2891 have difference: {'2009-08-07'}\n",
      "{'2009-08-07'}\n",
      "2308, 3008 have difference: {'2009-08-07'}\n",
      "{'2009-08-07'}\n",
      "2317, 2454 have difference: {'2009-08-07'}\n",
      "{'2009-08-07'}\n",
      "2317, 2882 have difference: {'2009-08-07'}\n",
      "{'2009-08-07'}\n",
      "2317, 2891 have difference: {'2009-08-07'}\n",
      "{'2009-08-07'}\n",
      "2317, 3008 have difference: {'2009-08-07'}\n",
      "{'2009-08-07'}\n",
      "2330, 2454 have difference: {'2009-08-07'}\n",
      "{'2009-08-07'}\n",
      "2330, 2882 have difference: {'2009-08-07'}\n",
      "{'2009-08-07'}\n",
      "2330, 2891 have difference: {'2009-08-07'}\n",
      "{'2009-08-07'}\n",
      "2330, 3008 have difference: {'2009-08-07'}\n"
     ]
    }
   ],
   "source": [
    "#%% exploratory data analysis\n",
    "df = pd.read_csv(\"tw0050_10_2.csv\")\n",
    "#obs_missing(df)\n",
    "missing_dates = extract_missing_date(df)\n",
    "df = handle_missing_date(df, missing_dates)   # deal with the missing data in dataframe (missing at particular date)\n",
    "plot_padjc_pc(df)"
   ]
  },
  {
   "cell_type": "code",
   "execution_count": null,
   "metadata": {},
   "outputs": [],
   "source": []
  }
 ],
 "metadata": {
  "kernelspec": {
   "display_name": "Python 3",
   "language": "python",
   "name": "python3"
  },
  "language_info": {
   "codemirror_mode": {
    "name": "ipython",
    "version": 3
   },
   "file_extension": ".py",
   "mimetype": "text/x-python",
   "name": "python",
   "nbconvert_exporter": "python",
   "pygments_lexer": "ipython3",
   "version": "3.7.3"
  }
 },
 "nbformat": 4,
 "nbformat_minor": 4
}
